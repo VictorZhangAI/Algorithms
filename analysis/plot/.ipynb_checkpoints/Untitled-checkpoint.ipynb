{
 "cells": [
  {
   "cell_type": "code",
   "execution_count": 12,
   "id": "1c91eb56-0afa-4a38-9058-3e4ded413d66",
   "metadata": {},
   "outputs": [],
   "source": [
    "import math\n",
    "import numpy as np\n",
    "import matplotlib.pyplot as plt"
   ]
  },
  {
   "cell_type": "code",
   "execution_count": 13,
   "id": "783f7c7f-1f18-4052-8d8f-db2898f1362d",
   "metadata": {},
   "outputs": [],
   "source": [
    "x = [8, 16, 32, 64, 128, 256, 512, 1024, 2048]\n",
    "y = [0.000001,\n",
    "0.000006,\n",
    "0.000040,\n",
    "0.000323,\n",
    "0.002647,\n",
    "0.027754,\n",
    "0.173585,\n",
    "1.419481,\n",
    "1.385309]"
   ]
  },
  {
   "cell_type": "code",
   "execution_count": null,
   "id": "f7095024-a6f8-445f-ba38-60e507748ca1",
   "metadata": {},
   "outputs": [],
   "source": [
    "logx = []\n",
    "logy = []\n",
    "for i in range(0, 8):\n",
    "    logx.append(math.log2(x[i]))\n",
    "    logy.append(math.log2(y[i]))"
   ]
  },
  {
   "cell_type": "code",
   "execution_count": null,
   "id": "4731ee37-5245-4a6c-9911-3ec1f8e1bad2",
   "metadata": {},
   "outputs": [],
   "source": [
    "avgx = sum(logx) / len(logx)\n",
    "avgy = sum(logy) / len(logy)"
   ]
  },
  {
   "cell_type": "code",
   "execution_count": null,
   "id": "06dbc373-9134-44ff-881f-f6371c6b8e2c",
   "metadata": {},
   "outputs": [],
   "source": [
    "sum1 = 0\n",
    "sum2 = 0\n",
    "for i in range(0, 8):\n",
    "    sum1 += (logx[i] - avgx) * (logy[i] - avgy)\n",
    "    sum2 += (logx[i] - avgx) ** 2\n",
    "b = sum1 / sum2"
   ]
  },
  {
   "cell_type": "code",
   "execution_count": null,
   "id": "3462e8a4-27e4-4b8d-9146-67286b2f33c2",
   "metadata": {},
   "outputs": [],
   "source": [
    "a = avgy - b * avgx"
   ]
  },
  {
   "cell_type": "code",
   "execution_count": 20,
   "id": "2d1a80f0-f6c2-4faf-a8b3-67b697fd38ed",
   "metadata": {},
   "outputs": [],
   "source": [
    "fitx = np.linspace(3, 10, 200)\n",
    "fity = fitx * b + a"
   ]
  },
  {
   "cell_type": "code",
   "execution_count": 21,
   "id": "2080b1b3-a005-4b25-9af3-41fcd55dbd9c",
   "metadata": {},
   "outputs": [
    {
     "data": {
      "text/plain": [
       "[<matplotlib.lines.Line2D at 0x1ff2d728b10>]"
      ]
     },
     "execution_count": 21,
     "metadata": {},
     "output_type": "execute_result"
    },
    {
     "data": {
      "image/png": "[encoded data removed]",
      "text/plain": [
       "<Figure size 640x480 with 1 Axes>"
      ]
     },
     "metadata": {},
     "output_type": "display_data"
    }
   ],
   "source": [
    "plt.scatter(logx, logy)\n",
    "plt.plot(fitx, fity)"
   ]
  },
  {
   "cell_type": "code",
   "execution_count": 22,
   "id": "390b44f6-bb06-4c5f-b917-c1286b8ea507",
   "metadata": {},
   "outputs": [
    {
     "data": {
      "text/plain": [
       "2.9584561686583095"
      ]
     },
     "execution_count": 22,
     "metadata": {},
     "output_type": "execute_result"
    }
   ],
   "source": [
    "b"
   ]
  },
  {
   "cell_type": "code",
   "execution_count": 23,
   "id": "aae9dbe2-8aba-4a74-8e70-b57c74e2676e",
   "metadata": {},
   "outputs": [
    {
     "data": {
      "text/plain": [
       "-29.13465286689555"
      ]
     },
     "execution_count": 23,
     "metadata": {},
     "output_type": "execute_result"
    }
   ],
   "source": [
    "a"
   ]
  },
  {
   "cell_type": "code",
   "execution_count": null,
   "id": "6cef78a2-74c7-4d6a-824e-c1e4631d4f4d",
   "metadata": {},
   "outputs": [],
   "source": []
  }
 ],
 "metadata": {
  "kernelspec": {
   "display_name": "Python 3 (ipykernel)",
   "language": "python",
   "name": "python3"
  },
  "language_info": {
   "codemirror_mode": {
    "name": "ipython",
    "version": 3
   },
   "file_extension": ".py",
   "mimetype": "text/x-python",
   "name": "python",
   "nbconvert_exporter": "python",
   "pygments_lexer": "ipython3",
   "version": "3.11.7"
  }
 },
 "nbformat": 4,
 "nbformat_minor": 5
}
